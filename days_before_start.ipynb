{
 "cells": [
  {
   "cell_type": "markdown",
   "id": "a3dcf0cc-2a5b-42d8-ad8a-5fe40c22dbee",
   "metadata": {},
   "source": [
    "<a id=\"stepSTART\"></a>\n",
    "**Проект**: Мобильное приложение с элементами социальной сети, маркетплейса, объединяющее взаимодействие 3 сегментов аудитории\n",
    "\n",
    "**Контекст**: \n",
    "Для повышения доходимости до мероприятия участников, забронировавших участие в мероприятии необходимо разработать логику отправки и периодичность \n",
    "включения точек контакта \n",
    "\n",
    "**Задача**: \n",
    "\n",
    "- Провести анализ того, какова наиболее часто встречающаяся \"граница бронирования\" на мероприятие в зависимости от формата мероприятия\n",
    "\n",
    "[Ключевые выводы](#step6)\n",
    "\n",
    "[Рекомендации](#step7)"
   ]
  },
  {
   "cell_type": "markdown",
   "id": "ee4b49a4-51b7-4c62-94f7-d7b711795a65",
   "metadata": {},
   "source": [
    "**Разделы исследования** <a id='stepend'></a>\n",
    "\n",
    "1-2. [Импорт необходимых библиотек и формирование основного датафрейма](#step1)</n>\n",
    "\n",
    "3. [Формирование датафрейма для анализа](#step2)\n",
    "   \n",
    "4. [Осмотр данных](#step3)\n",
    "\n",
    "5. [Анализ поведения со статусом \"Гость\"](#step4)\n",
    "\n",
    "6. [Анализ поведения со статусом \"Амбассадор\"](#step5)\n",
    "\n",
    "7. [Ключевые выводы](#step6)\n",
    "\n",
    "8. [Рекомендации](#step6)"
   ]
  },
  {
   "cell_type": "markdown",
   "id": "99eb18d9-bc10-49f3-b7ed-55aa6ffc8617",
   "metadata": {},
   "source": [
    "### `1 - 2. Импорт необходимых библиотек и формирование основного датафрейма` <a id=\"step1\"></a>"
   ]
  },
  {
   "cell_type": "code",
   "execution_count": 14,
   "id": "53657185-be89-4baf-a7a5-e40966aae23a",
   "metadata": {},
   "outputs": [],
   "source": [
    "# 1. Импортируем необходимые библиотеки\n",
    "import mysql.connector\n",
    "import pandas as pd\n",
    "from sqlalchemy import create_engine"
   ]
  },
  {
   "cell_type": "code",
   "execution_count": 27,
   "id": "32787076-ba60-4cd4-a177-63365b010c52",
   "metadata": {},
   "outputs": [
    {
     "data": {
      "text/html": [
       "<div>\n",
       "<style scoped>\n",
       "    .dataframe tbody tr th:only-of-type {\n",
       "        vertical-align: middle;\n",
       "    }\n",
       "\n",
       "    .dataframe tbody tr th {\n",
       "        vertical-align: top;\n",
       "    }\n",
       "\n",
       "    .dataframe thead th {\n",
       "        text-align: right;\n",
       "    }\n",
       "</style>\n",
       "<table border=\"1\" class=\"dataframe\">\n",
       "  <thead>\n",
       "    <tr style=\"text-align: right;\">\n",
       "      <th></th>\n",
       "      <th>user_id</th>\n",
       "      <th>booked_status_user</th>\n",
       "      <th>event_id</th>\n",
       "      <th>booking_date</th>\n",
       "      <th>start_date</th>\n",
       "      <th>format</th>\n",
       "      <th>type</th>\n",
       "      <th>author_id</th>\n",
       "      <th>booked_status_author</th>\n",
       "      <th>diff_start</th>\n",
       "      <th>pass_status</th>\n",
       "    </tr>\n",
       "  </thead>\n",
       "  <tbody>\n",
       "    <tr>\n",
       "      <th>0</th>\n",
       "      <td>5641685</td>\n",
       "      <td>AMBASSADOR</td>\n",
       "      <td>2038</td>\n",
       "      <td>2024-12-04</td>\n",
       "      <td>2024-12-22</td>\n",
       "      <td>OFFLINE</td>\n",
       "      <td>PAID</td>\n",
       "      <td>9927742</td>\n",
       "      <td>AMBASSADOR</td>\n",
       "      <td>18</td>\n",
       "      <td>1</td>\n",
       "    </tr>\n",
       "    <tr>\n",
       "      <th>1</th>\n",
       "      <td>5641685</td>\n",
       "      <td>AMBASSADOR</td>\n",
       "      <td>1890</td>\n",
       "      <td>2024-12-04</td>\n",
       "      <td>2024-12-11</td>\n",
       "      <td>ONLINE</td>\n",
       "      <td>PAID</td>\n",
       "      <td>38703</td>\n",
       "      <td>AMBASSADOR</td>\n",
       "      <td>7</td>\n",
       "      <td>1</td>\n",
       "    </tr>\n",
       "    <tr>\n",
       "      <th>2</th>\n",
       "      <td>5641685</td>\n",
       "      <td>AMBASSADOR</td>\n",
       "      <td>2082</td>\n",
       "      <td>2024-12-04</td>\n",
       "      <td>2025-01-22</td>\n",
       "      <td>OFFLINE</td>\n",
       "      <td>PAID</td>\n",
       "      <td>9930934</td>\n",
       "      <td>AMBASSADOR</td>\n",
       "      <td>49</td>\n",
       "      <td>1</td>\n",
       "    </tr>\n",
       "  </tbody>\n",
       "</table>\n",
       "</div>"
      ],
      "text/plain": [
       "   user_id booked_status_user  event_id booking_date  start_date   format  \\\n",
       "0  5641685         AMBASSADOR      2038   2024-12-04  2024-12-22  OFFLINE   \n",
       "1  5641685         AMBASSADOR      1890   2024-12-04  2024-12-11   ONLINE   \n",
       "2  5641685         AMBASSADOR      2082   2024-12-04  2025-01-22  OFFLINE   \n",
       "\n",
       "   type  author_id booked_status_author  diff_start  pass_status  \n",
       "0  PAID    9927742           AMBASSADOR          18            1  \n",
       "1  PAID      38703           AMBASSADOR           7            1  \n",
       "2  PAID    9930934           AMBASSADOR          49            1  "
      ]
     },
     "execution_count": 27,
     "metadata": {},
     "output_type": "execute_result"
    }
   ],
   "source": [
    "# 2. Сформируем датафрейм со всеми необходимыми данными\n",
    "engine = create_engine('mysql+mysqlconnector://come_on_dude')\n",
    "\n",
    "# Ваш SQL-запрос\n",
    "query = \"\"\"SELECT bookings.user_id,\n",
    "        booked_users.booked_status_user,\n",
    "        bookings.event_id,\n",
    "        bookings.booking_date,\n",
    "        events.start_date,\n",
    "        events.format,\n",
    "        events.type,\n",
    "        events.author_id,\n",
    "        booked_authors.booked_status_author,\n",
    "        DATEDIFF(events.start_date, bookings.booking_date) AS diff_start,\n",
    "        pass_status\n",
    "  FROM (SELECT userId AS user_id,\n",
    "               activityId AS event_id,\n",
    "               DATE(createdAt) AS booking_date,\n",
    "               withSpacePass AS pass_status\n",
    "          FROM `krugi-prod-social`.activity_participant\n",
    "         WHERE DATE(createdAt) >= \"2024-12-01\"\n",
    "           AND deletedAt IS NULL\n",
    "           AND userId NOT IN (SELECT id \n",
    "                                FROM `krugi-prod-social`.users\n",
    "                               WHERE phone IN ('70333377777',\n",
    "                                                '12640826663333',\n",
    "                                                '72828203554',\n",
    "                                                '79160631144',\n",
    "                                                '78005553535',\n",
    "                                                '79619919840',\n",
    "                                                '79833856638',\n",
    "                                                '79831063666',\n",
    "                                                '79635088274',\n",
    "                                                '71111111111',\n",
    "                                                '78005553535')\n",
    "                                  OR externalId = \"crm\")) AS bookings\n",
    "        LEFT JOIN\n",
    "        (SELECT id AS event_id,\n",
    "                DATE(startDate) AS start_date,\n",
    "                DATE(endDate) AS end_date,\n",
    "                DATE(createdAt) AS created_date,\n",
    "                format,\n",
    "                type,\n",
    "                authorId AS author_id\n",
    "          FROM `krugi-prod-social`.activity\n",
    "         WHERE DATE(createdAt) >= \"2024-12-01\"\n",
    "          AND authorId NOT IN (SELECT id \n",
    "                                 FROM `krugi-prod-social`.users\n",
    "                                WHERE phone IN ('70333377777',\n",
    "                                                '12640826663333',\n",
    "                                                '72828203554',\n",
    "                                                '79160631144',\n",
    "                                                '78005553535',\n",
    "                                                '79619919840',\n",
    "                                                '79833856638',\n",
    "                                                '79831063666',\n",
    "                                                '79635088274',\n",
    "                                                '71111111111',\n",
    "                                                '78005553535')\n",
    "                                   OR externalId = \"crm\"\n",
    "                                   OR clubMemberStatus = \"MEMBER\")) AS events\n",
    "        ON bookings.event_id = events.event_id\n",
    "        LEFT JOIN\n",
    "        (SELECT id AS booked_user,\n",
    "                clubMemberStatus AS booked_status_user\n",
    "           FROM `krugi-prod-social`.users) AS booked_users\n",
    "        ON bookings.user_id = booked_users.booked_user\n",
    "        LEFT JOIN\n",
    "        (SELECT id AS booked_author,\n",
    "                clubMemberStatus AS booked_status_author\n",
    "        FROM `krugi-prod-social`.users) AS booked_authors\n",
    "        ON bookings.user_id = booked_authors.booked_author\n",
    "WHERE events.start_date IS NOT NULL\n",
    "  AND (DATEDIFF(events.start_date, bookings.booking_date) > 0)\n",
    "  AND (DATEDIFF(events.end_date, bookings.booking_date) > 0 )\n",
    "  AND bookings.user_id != events.author_id\"\"\"\n",
    "\n",
    "# Выполнение запроса и загрузка результата в DataFrame\n",
    "main_tab = pd.read_sql(query, engine)\n",
    "main_tab.head(3)"
   ]
  },
  {
   "cell_type": "markdown",
   "id": "e9c0749c-397d-41d0-82ac-43d36dec7eb7",
   "metadata": {},
   "source": [
    "### `3. Формирование датафрейма для анализа` <a id=\"step2\"></a>"
   ]
  },
  {
   "cell_type": "code",
   "execution_count": 16,
   "id": "f9356b78-cb6c-4e87-9df3-020dcbf42d6f",
   "metadata": {},
   "outputs": [
    {
     "data": {
      "text/html": [
       "<div>\n",
       "<style scoped>\n",
       "    .dataframe tbody tr th:only-of-type {\n",
       "        vertical-align: middle;\n",
       "    }\n",
       "\n",
       "    .dataframe tbody tr th {\n",
       "        vertical-align: top;\n",
       "    }\n",
       "\n",
       "    .dataframe thead th {\n",
       "        text-align: right;\n",
       "    }\n",
       "</style>\n",
       "<table border=\"1\" class=\"dataframe\">\n",
       "  <thead>\n",
       "    <tr style=\"text-align: right;\">\n",
       "      <th></th>\n",
       "      <th>user_id</th>\n",
       "      <th>booked_status_user</th>\n",
       "      <th>event_id</th>\n",
       "      <th>format</th>\n",
       "      <th>type</th>\n",
       "      <th>pass_status</th>\n",
       "      <th>booked_status_author</th>\n",
       "      <th>diff_start</th>\n",
       "    </tr>\n",
       "  </thead>\n",
       "  <tbody>\n",
       "    <tr>\n",
       "      <th>0</th>\n",
       "      <td>5641685</td>\n",
       "      <td>AMBASSADOR</td>\n",
       "      <td>2038</td>\n",
       "      <td>OFFLINE</td>\n",
       "      <td>PAID</td>\n",
       "      <td>1</td>\n",
       "      <td>AMBASSADOR</td>\n",
       "      <td>18</td>\n",
       "    </tr>\n",
       "    <tr>\n",
       "      <th>1</th>\n",
       "      <td>5641685</td>\n",
       "      <td>AMBASSADOR</td>\n",
       "      <td>1890</td>\n",
       "      <td>ONLINE</td>\n",
       "      <td>PAID</td>\n",
       "      <td>1</td>\n",
       "      <td>AMBASSADOR</td>\n",
       "      <td>7</td>\n",
       "    </tr>\n",
       "    <tr>\n",
       "      <th>2</th>\n",
       "      <td>5641685</td>\n",
       "      <td>AMBASSADOR</td>\n",
       "      <td>2082</td>\n",
       "      <td>OFFLINE</td>\n",
       "      <td>PAID</td>\n",
       "      <td>1</td>\n",
       "      <td>AMBASSADOR</td>\n",
       "      <td>49</td>\n",
       "    </tr>\n",
       "  </tbody>\n",
       "</table>\n",
       "</div>"
      ],
      "text/plain": [
       "   user_id booked_status_user  event_id   format  type  pass_status  \\\n",
       "0  5641685         AMBASSADOR      2038  OFFLINE  PAID            1   \n",
       "1  5641685         AMBASSADOR      1890   ONLINE  PAID            1   \n",
       "2  5641685         AMBASSADOR      2082  OFFLINE  PAID            1   \n",
       "\n",
       "  booked_status_author  diff_start  \n",
       "0           AMBASSADOR          18  \n",
       "1           AMBASSADOR           7  \n",
       "2           AMBASSADOR          49  "
      ]
     },
     "execution_count": 16,
     "metadata": {},
     "output_type": "execute_result"
    }
   ],
   "source": [
    "# 3. Сформируем датафрейм только с необходимыми колонками\n",
    "bookings = main_tab.copy()\n",
    "bookings = bookings[['user_id', 'booked_status_user','event_id', \n",
    "                     'format', 'type', 'pass_status', \n",
    "                     'booked_status_author', 'diff_start']]\n",
    "bookings.head(3)"
   ]
  },
  {
   "cell_type": "markdown",
   "id": "b6a21219-08dd-4412-9d09-bc349a35c62d",
   "metadata": {},
   "source": [
    "### `4. Осмотр данных` <a id=\"step3\"></a>"
   ]
  },
  {
   "cell_type": "code",
   "execution_count": 17,
   "id": "a6f4190d-83ef-4c66-b021-0e85de90cb2d",
   "metadata": {},
   "outputs": [
    {
     "data": {
      "text/plain": [
       "(3051, 8)"
      ]
     },
     "execution_count": 17,
     "metadata": {},
     "output_type": "execute_result"
    }
   ],
   "source": [
    "# 4.1 Посмотрим сколько строк и колонок, адекватное ли кол-во исходя их контекста запроса\n",
    "bookings.shape"
   ]
  },
  {
   "cell_type": "code",
   "execution_count": 18,
   "id": "9c954155-8cf6-4020-90e8-c92a066f3f22",
   "metadata": {},
   "outputs": [
    {
     "data": {
      "text/plain": [
       "3051"
      ]
     },
     "execution_count": 18,
     "metadata": {},
     "output_type": "execute_result"
    }
   ],
   "source": [
    "bookings.shape[0]"
   ]
  },
  {
   "cell_type": "code",
   "execution_count": 19,
   "id": "96014745-cd59-4d32-844c-ba7df5924608",
   "metadata": {},
   "outputs": [
    {
     "data": {
      "text/plain": [
       "Index(['user_id', 'booked_status_user', 'event_id', 'format', 'type',\n",
       "       'pass_status', 'booked_status_author', 'diff_start'],\n",
       "      dtype='object')"
      ]
     },
     "execution_count": 19,
     "metadata": {},
     "output_type": "execute_result"
    }
   ],
   "source": [
    "# 4.2 Проверим на наличие лишних пробелов, странных символов, дублей в названиях\n",
    "bookings.columns"
   ]
  },
  {
   "cell_type": "code",
   "execution_count": 20,
   "id": "086ddf69-8e16-4746-a40a-2879b18d4880",
   "metadata": {},
   "outputs": [
    {
     "name": "stdout",
     "output_type": "stream",
     "text": [
      "<class 'pandas.core.frame.DataFrame'>\n",
      "RangeIndex: 3051 entries, 0 to 3050\n",
      "Data columns (total 8 columns):\n",
      " #   Column                Non-Null Count  Dtype \n",
      "---  ------                --------------  ----- \n",
      " 0   user_id               3051 non-null   int64 \n",
      " 1   booked_status_user    3051 non-null   object\n",
      " 2   event_id              3051 non-null   int64 \n",
      " 3   format                3051 non-null   object\n",
      " 4   type                  3051 non-null   object\n",
      " 5   pass_status           3051 non-null   int64 \n",
      " 6   booked_status_author  3051 non-null   object\n",
      " 7   diff_start            3051 non-null   int64 \n",
      "dtypes: int64(4), object(4)\n",
      "memory usage: 190.8+ KB\n"
     ]
    }
   ],
   "source": [
    "# 4.3 Посмотрим какие типы данных у колонок, сколько ненулевых значений, сколько памяти жрёт датафрейм\n",
    "bookings.info()"
   ]
  },
  {
   "cell_type": "code",
   "execution_count": 21,
   "id": "1869908b-df6e-4be9-ad20-715ac4154075",
   "metadata": {},
   "outputs": [
    {
     "data": {
      "text/plain": [
       "count    3051.000000\n",
       "mean        8.942314\n",
       "std        12.702160\n",
       "min         1.000000\n",
       "25%         2.000000\n",
       "50%         5.000000\n",
       "75%        11.500000\n",
       "max       151.000000\n",
       "Name: diff_start, dtype: float64"
      ]
     },
     "execution_count": 21,
     "metadata": {},
     "output_type": "execute_result"
    }
   ],
   "source": [
    "# 4.4 Посмотрим обстановку по числовым данны.\n",
    "bookings.diff_start.describe()"
   ]
  },
  {
   "cell_type": "markdown",
   "id": "aea1cc84-2d8a-46b9-8fc6-e7e572dfe7f4",
   "metadata": {},
   "source": [
    "### `5. Анализ поведения со статусом \"Гость\"` <a id=\"step4\"></a>"
   ]
  },
  {
   "cell_type": "code",
   "execution_count": 22,
   "id": "01feeb14-8165-4d1f-b3b7-896177eee912",
   "metadata": {},
   "outputs": [
    {
     "data": {
      "text/plain": [
       "count    3051.000000\n",
       "mean        8.942314\n",
       "std        12.702160\n",
       "min         1.000000\n",
       "25%         2.000000\n",
       "50%         5.000000\n",
       "75%        11.500000\n",
       "max       151.000000\n",
       "Name: diff_start, dtype: float64"
      ]
     },
     "execution_count": 22,
     "metadata": {},
     "output_type": "execute_result"
    }
   ],
   "source": [
    "# 5.1 Осмотр данных\n",
    "bookings_guest = bookings.copy()\n",
    "bookings_guest.diff_start.describe()"
   ]
  },
  {
   "cell_type": "code",
   "execution_count": 23,
   "id": "ce32f0d6-f721-4657-abd9-e9e18ac4ca90",
   "metadata": {},
   "outputs": [
    {
     "name": "stdout",
     "output_type": "stream",
     "text": [
      "Медианное кол-во дней за которые происходит бронирование у Гостей: 3.0\n",
      "\n",
      "Онлайн\n",
      "Медианное кол-во дней за которые происходит бронирование у Гостей на онлайн: 3.0\n",
      "Медианное кол-во дней за которые происходит бронирование у Гостей на онлайн (бесплатно): 2.0\n",
      "Медианное кол-во дней за которые происходит бронирование у Гостей на онлайн (платно общее): 6.0\n",
      "Медианное кол-во дней за которые происходит бронирование у Гостей на онлайн (платно с картой): 9.5\n",
      "Медианное кол-во дней за которые происходит бронирование у Гостей на онлайн (платно без карты): 2.0\n",
      "\n",
      "Офлайн\n",
      "Медианное кол-во дней за которые происходит бронирование у Гостей на офлайн: 4.0\n",
      "Медианное кол-во дней за которые происходит бронирование у Гостей на офлайн (бесплатно): 3.0\n",
      "Медианное кол-во дней за которые происходит бронирование у Гостей на офлайн (платно общее): 7.0\n",
      "Медианное кол-во дней за которые происходит бронирование у Гостей на офлайн (платно с картой): 20.0\n",
      "Медианное кол-во дней за которые происходит бронирование у Гостей на офлайн (платно без карты): 6.0\n"
     ]
    }
   ],
   "source": [
    "# 5.2 Проведем анализ среднего кол-ва дней до бронирования у пользователей со статусом Гость\n",
    "\n",
    "bookings_guest = bookings_guest.query('booked_status_user == \"GUEST\"')\n",
    "\n",
    "bookings_guest_online = bookings_guest.copy()\n",
    "bookings_guest_online = bookings_guest_online.query('format == \"ONLINE\"')\n",
    "\n",
    "bookings_guest_offline = bookings_guest.copy()\n",
    "bookings_guest_offline = bookings_guest_offline.query('format == \"OFFLINE\"')\n",
    "\n",
    "bookings_guest_online_paid = bookings_guest.copy()\n",
    "bookings_guest_online_paid = bookings_guest_online_paid.query('format == \"ONLINE\"') \\\n",
    "                                                       .query('type == \"PAID\"')\n",
    "\n",
    "bookings_guest_online_paid_pass_1 = bookings_guest.copy()\n",
    "bookings_guest_online_paid_pass_1 = bookings_guest_online_paid_pass_1.query('format == \"ONLINE\"') \\\n",
    "                                                                     .query('type == \"PAID\"') \\\n",
    "                                                                     .query('pass_status == 1') \\\n",
    "\n",
    "bookings_guest_online_paid_pass_0 = bookings_guest.copy()\n",
    "bookings_guest_online_paid_pass_0 = bookings_guest_online_paid_pass_0.query('format == \"ONLINE\"') \\\n",
    "                                                                     .query('type == \"PAID\"') \\\n",
    "                                                                     .query('pass_status == 0') \\\n",
    "\n",
    "bookings_guest_online_free = bookings_guest.copy()\n",
    "bookings_guest_online_free = bookings_guest_online_free.query('format == \"ONLINE\"') \\\n",
    "                                                       .query('type == \"FREE\"') \\\n",
    "\n",
    "bookings_guest_offline_paid = bookings_guest.copy()\n",
    "bookings_guest_offline_paid = bookings_guest_offline_paid.query('format == \"OFFLINE\"') \\\n",
    "                                                         .query('type == \"PAID\"') \\\n",
    "\n",
    "bookings_guest_offline_paid_pass_1 = bookings_guest.copy()\n",
    "bookings_guest_offline_paid_pass_1 = bookings_guest_offline_paid_pass_1.query('format == \"OFFLINE\"') \\\n",
    "                                                                       .query('type == \"PAID\"') \\\n",
    "                                                                       .query('pass_status == 1') \\\n",
    "\n",
    "bookings_guest_offline_paid_pass_0 = bookings_guest.copy()\n",
    "bookings_guest_offline_paid_pass_0 = bookings_guest_offline_paid_pass_0.query('format == \"OFFLINE\"') \\\n",
    "                                                                       .query('type == \"PAID\"') \\\n",
    "                                                                       .query('pass_status == 0') \\\n",
    "\n",
    "bookings_guest_offline_free = bookings_guest.copy()\n",
    "bookings_guest_offline_free = bookings_guest_offline_free.query('format == \"OFFLINE\"') \\\n",
    "                                                         .query('type == \"FREE\"')\n",
    "\n",
    "print(f\"Медианное кол-во дней за которые происходит бронирование у Гостей: {bookings_guest.diff_start.median()}\")\n",
    "print()\n",
    "print(\"Онлайн\")\n",
    "print(f\"Медианное кол-во дней за которые происходит бронирование у Гостей на онлайн: \\\n",
    "{bookings_guest_online.diff_start.median()}\")\n",
    "print(f\"Медианное кол-во дней за которые происходит бронирование у Гостей на онлайн (бесплатно): \\\n",
    "{bookings_guest_online_free.diff_start.median()}\")\n",
    "print(f\"Медианное кол-во дней за которые происходит бронирование у Гостей на онлайн (платно общее): \\\n",
    "{bookings_guest_online_paid.diff_start.median()}\")\n",
    "print(f\"Медианное кол-во дней за которые происходит бронирование у Гостей на онлайн (платно с картой): \\\n",
    "{bookings_guest_online_paid_pass_1.diff_start.median()}\")\n",
    "print(f\"Медианное кол-во дней за которые происходит бронирование у Гостей на онлайн (платно без карты): \\\n",
    "{bookings_guest_online_paid_pass_0.diff_start.median()}\")\n",
    "\n",
    "print()\n",
    "print(\"Офлайн\")\n",
    "print(f\"Медианное кол-во дней за которые происходит бронирование у Гостей на офлайн: \\\n",
    "{bookings_guest_offline.diff_start.median()}\")\n",
    "print(f\"Медианное кол-во дней за которые происходит бронирование у Гостей на офлайн (бесплатно): \\\n",
    "{bookings_guest_offline_free.diff_start.median()}\")\n",
    "print(f\"Медианное кол-во дней за которые происходит бронирование у Гостей на офлайн (платно общее): \\\n",
    "{bookings_guest_offline_paid.diff_start.median()}\")\n",
    "print(f\"Медианное кол-во дней за которые происходит бронирование у Гостей на офлайн (платно с картой): \\\n",
    "{bookings_guest_offline_paid_pass_1.diff_start.median()}\")\n",
    "print(f\"Медианное кол-во дней за которые происходит бронирование у Гостей на офлайн (платно без карты): \\\n",
    "{bookings_guest_offline_paid_pass_0.diff_start.median()}\")"
   ]
  },
  {
   "cell_type": "markdown",
   "id": "00392f7f-c9c8-44e1-a132-8b9f8ffe020b",
   "metadata": {},
   "source": [
    "### `6. Анализ поведения со статусом \"Амбассадор\"` <a id=\"step5\"></a>"
   ]
  },
  {
   "cell_type": "code",
   "execution_count": 24,
   "id": "70f07633-deb1-46a0-a30d-11c01750c6cd",
   "metadata": {},
   "outputs": [
    {
     "data": {
      "text/plain": [
       "count    3051.000000\n",
       "mean        8.942314\n",
       "std        12.702160\n",
       "min         1.000000\n",
       "25%         2.000000\n",
       "50%         5.000000\n",
       "75%        11.500000\n",
       "max       151.000000\n",
       "Name: diff_start, dtype: float64"
      ]
     },
     "execution_count": 24,
     "metadata": {},
     "output_type": "execute_result"
    }
   ],
   "source": [
    "# 6.1 Осмотр данных\n",
    "bookings_ambassador = bookings.copy()\n",
    "bookings_ambassador.diff_start.describe()"
   ]
  },
  {
   "cell_type": "code",
   "execution_count": 25,
   "id": "28154dc8-02b6-4ee5-897e-1006bedc6e71",
   "metadata": {},
   "outputs": [
    {
     "name": "stdout",
     "output_type": "stream",
     "text": [
      "Медианное  кол-во дней за которые происходит бронирование у Амб.: 6.0\n",
      "\n",
      "Онлайн\n",
      "Медианное  кол-во дней за которые происходит бронирование у Амб. на онлайн: 6.0\n",
      "Медианное  кол-во дней за которые происходит бронирование у Амб. на онлайн (бесплатно): 3.0\n",
      "Медианное  кол-во дней за которые происходит бронирование у Амб. на онлайн (платно): 9.0\n",
      "Медианное кол-во дней за которые происходит бронирование у Амб. на онлайн (платно с картой): 9.0\n",
      "Медианное кол-во дней за которые происходит бронирование у Амб. на онлайн (платно без карты): 6.0\n",
      "\n",
      "Офлайн\n",
      "Медианное  кол-во дней за которые происходит бронирование у Амб. на офлайн: 5.0\n",
      "Медианное  кол-во дней за которые происходит бронирование у Амб. на офлайн (бесплатно): 3.0\n",
      "Медианное  кол-во дней за которые происходит бронирование у Амб. на офлайн (платно): 6.0\n",
      "Медианное кол-во дней за которые происходит бронирование у Амб. на онлайн (платно с картой): 9.0\n",
      "Медианное кол-во дней за которые происходит бронирование у Амб. на онлайн (платно без карты): 6.0\n"
     ]
    }
   ],
   "source": [
    "# 6.2 Проведем анализ среднего кол-ва дней до бронирования у пользователей со статусом Амбассадор\n",
    "\n",
    "bookings_ambassador = bookings_ambassador.query('booked_status_user == \"AMBASSADOR\"')\n",
    "\n",
    "bookings_ambassador_online = bookings_ambassador.copy()\n",
    "bookings_ambassador_online = bookings_ambassador_online.query('format == \"ONLINE\"')\n",
    "\n",
    "bookings_ambassador_offline = bookings_ambassador.copy()\n",
    "bookings_ambassador_offline = bookings_ambassador_offline.query('format == \"OFFLINE\"')\n",
    "\n",
    "bookings_ambassador_online_paid = bookings_ambassador.copy()\n",
    "bookings_ambassador_online_paid = bookings_ambassador_online_paid.query('format == \"ONLINE\"') \\\n",
    "                                                                 .query('type == \"PAID\"') \\\n",
    "\n",
    "bookings_ambassador_online_paid_pass_1 = bookings_ambassador.copy()\n",
    "bookings_ambassador_online_paid_pass_1 = bookings_ambassador_online_paid_pass_1.query('format == \"ONLINE\"') \\\n",
    "                                                                               .query('type == \"PAID\"') \\\n",
    "                                                                               .query('pass_status == 1') \\\n",
    "\n",
    "bookings_ambassador_online_paid_pass_0 = bookings_ambassador.copy()\n",
    "bookings_ambassador_online_paid_pass_0 = bookings_ambassador_online_paid_pass_0.query('format == \"ONLINE\"') \\\n",
    "                                                                               .query('type == \"PAID\"') \\\n",
    "                                                                               .query('pass_status == 0') \\\n",
    "\n",
    "bookings_ambassador_online_free = bookings_ambassador.copy()\n",
    "bookings_ambassador_online_free = bookings_ambassador_online_free.query('format == \"ONLINE\"') \\\n",
    "                                                                 .query('type == \"FREE\"') \\\n",
    "\n",
    "bookings_ambassador_offline_paid = bookings_ambassador.copy()\n",
    "bookings_ambassador_offline_paid = bookings_ambassador_offline_paid.query('format == \"OFFLINE\"') \\\n",
    "                                                                   .query('type == \"PAID\"') \\\n",
    "\n",
    "bookings_ambassador_offline_paid_pass_1 = bookings_ambassador.copy()\n",
    "bookings_ambassador_offline_paid_pass_1 = bookings_ambassador_offline_paid_pass_1.query('format == \"OFFLINE\"') \\\n",
    "                                                                                 .query('type == \"PAID\"') \\\n",
    "                                                                                 .query('pass_status == 1') \\\n",
    "\n",
    "bookings_ambassador_offline_paid_pass_0 = bookings_ambassador.copy()\n",
    "bookings_ambassador_offline_paid_pass_0 = bookings_ambassador_offline_paid_pass_0.query('format == \"OFFLINE\"') \\\n",
    "                                                                                 .query('type == \"PAID\"') \\\n",
    "                                                                                 .query('pass_status == 0') \\\n",
    "\n",
    "bookings_ambassador_offline_free = bookings_ambassador.copy()\n",
    "bookings_ambassador_offline_free = bookings_ambassador_offline_free.query('format == \"OFFLINE\"') \\\n",
    "                                                                   .query('type == \"FREE\"') \\\n",
    "\n",
    "print(f\"Медианное  кол-во дней за которые происходит бронирование у Амб.: {bookings_ambassador.diff_start.median()}\")\n",
    "print()\n",
    "print(\"Онлайн\")\n",
    "print(f\"Медианное  кол-во дней за которые происходит бронирование у Амб. на онлайн: \\\n",
    "{bookings_ambassador_online.diff_start.median()}\") \n",
    "print(f\"Медианное  кол-во дней за которые происходит бронирование у Амб. на онлайн (бесплатно): \\\n",
    "{bookings_ambassador_online_free.diff_start.median()}\") \n",
    "print(f\"Медианное  кол-во дней за которые происходит бронирование у Амб. на онлайн (платно): \\\n",
    "{bookings_ambassador_online_paid.diff_start.median()}\")\n",
    "print(f\"Медианное кол-во дней за которые происходит бронирование у Амб. на онлайн (платно с картой): \\\n",
    "{bookings_ambassador_online_paid_pass_1.diff_start.median()}\") \n",
    "print(f\"Медианное кол-во дней за которые происходит бронирование у Амб. на онлайн (платно без карты): \\\n",
    "{bookings_ambassador_online_paid_pass_0.diff_start.median()}\")\n",
    "print()\n",
    "print(\"Офлайн\")\n",
    "print(f\"Медианное  кол-во дней за которые происходит бронирование у Амб. на офлайн: \\\n",
    "{bookings_ambassador_offline.diff_start.median()}\") \n",
    "print(f\"Медианное  кол-во дней за которые происходит бронирование у Амб. на офлайн (бесплатно): \\\n",
    "{bookings_ambassador_offline_free.diff_start.median()}\") \n",
    "print(f\"Медианное  кол-во дней за которые происходит бронирование у Амб. на офлайн (платно): \\\n",
    "{bookings_ambassador_offline_paid.diff_start.median()}\") \n",
    "print(f\"Медианное кол-во дней за которые происходит бронирование у Амб. на онлайн (платно с картой): \\\n",
    "{bookings_ambassador_online_paid_pass_1.diff_start.median()}\") \n",
    "print(f\"Медианное кол-во дней за которые происходит бронирование у Амб. на онлайн (платно без карты): \\\n",
    "{bookings_ambassador_online_paid_pass_0.diff_start.median()}\") \n"
   ]
  },
  {
   "cell_type": "markdown",
   "id": "9b563b99-730c-4f3a-bed9-9c2c05449e52",
   "metadata": {},
   "source": [
    "### `7. Ключевые выводы` <a id=\"step6\"></a>"
   ]
  },
  {
   "cell_type": "markdown",
   "id": "52d4c73e-9619-4902-bd76-03378f308bae",
   "metadata": {},
   "source": [
    "**7.1 Пользователи со статусом \"Гость**"
   ]
  },
  {
   "cell_type": "markdown",
   "id": "23ed920d-33c9-4309-952e-c273ee36ba9f",
   "metadata": {},
   "source": [
    "**7.1.1 Общее**\n",
    "\n",
    "- В целом можно сказать, бронируют чаще всего за 3 дня, если кратко.\n",
    "\n",
    "- 25% Гостей склонны бронировать в последний момент — в день мероприятия или за день до него.\n",
    "\n",
    "- Еще 25% бронируют за 2–3 дня.\n",
    "\n",
    "- Еще 25% — за 4–7 дней.\n",
    "\n",
    "- Оставшиеся 25% бронируют за 8 дней и более.\n",
    "\n",
    "**7.1.2 По форматам**\n",
    "- Онлайн — бесплатно\t     2 дня\t  Увидел, забронировал\n",
    "- Онлайн — платно без карты  2 дня\t  Могу принять участие в любой момент, ближе ко времени заплачу\n",
    "- Онлайн — платно с картой   10 дней  Вероятно понимание ограниченности предложения\n",
    "\n",
    "- Офлайн — бесплатно\t     3 дня\t  Схоже с онлайн-форматом\n",
    "- Офлайн — платно без карты  6 дней\t  Интерес, возможный фактор — ограниченность площадки\n",
    "- Офлайн — платно с картой\t 20 дней   Вероятно понимание ограниченности предложения\n",
    " "
   ]
  },
  {
   "cell_type": "markdown",
   "id": "57ec24bc-76dc-4188-92ef-75111a6a602f",
   "metadata": {},
   "source": [
    "**7.2 Пользователи со статусом \"Амбассадор**"
   ]
  },
  {
   "cell_type": "markdown",
   "id": "c1a512a8-601b-4ba5-a63e-a76b79b39999",
   "metadata": {},
   "source": [
    "**7.2.1 Общее**\n",
    "\n",
    "- В целом, чаще всего Амбассадорв бронируют за 6 дней\n",
    "  \n",
    "- 25% Амбассадоров бронируют в последний момент — за 2 дня и меньше.\n",
    "\n",
    "- Еще25% — бронируют за 3–6 дней.\n",
    "\n",
    "- Еще 25% — за 7–13 дней.\n",
    "\n",
    "- Еще 25% — за 14 и более дней.\n",
    "\n",
    "**7.2.2 По форматам**\n",
    "- Онлайн — бесплатно\t                 3 дня\tПреимущественно спонтанно, увидел, забронировал\n",
    "- Онлайн — платно без карты       6 дней\tСреднее совсем\n",
    "- Онлайн — платно с картой         9 дней\tРаннее бронирование, вероятно понимание ограниченности\n",
    "- Офлайн — бесплатно\t                 3 дня\tПреимущественно спонтанно\n",
    "- Офлайн — платно без карты      6 дней\tСреднее совсем\n",
    "- Офлайн — платно с картой         9 дней\tРаннее бронирование"
   ]
  },
  {
   "cell_type": "markdown",
   "id": "505ed266-ba0b-4b27-868f-ee1c921c2460",
   "metadata": {},
   "source": [
    "### `8. Рекомендации` <a id=\"step7\"></a>"
   ]
  },
  {
   "cell_type": "markdown",
   "id": "00bb3e7e-bfc0-4423-93c4-2c28666fd4de",
   "metadata": {},
   "source": [
    "- 8.1  В PR-активностях о мероприятии учитывать формат и выстраивать коммуникацию так, чтобы самая \"яркая\" и ключевая точка промо-активностей приходилась на рубеж бронирования (указаны в разделе \"Ключевые моменты\" > \"По форматам\")\n",
    "\n",
    "- 8.2  Участие в бесплатных мероприятиях люди преимущественно принимают решение спонтанно, — зашел, увидел, забронировал, и в них в большей степени следует упирать именно на эмоциональные факторы. В этой ситуации человек вероятно уже понимает, что у него в эти дни свободно, и следующий фильтр — будет \"вау\" или — нет.\n",
    "\n",
    "- 8.3  В цепочке прогрева самые основные факторы принятия решения лучше всего раскрывать в период за 3 дня до мероприятия\n",
    "\n",
    "- 8.4  SPACE Pass — есть основания говорить о том, что люди понимают ограниченность предложения, бронируют раньше и это время можно использовать да более длинную цепочку коммуникации и прогрева, — в гостях это 10 дней для онлайн-форматов, и 20 дней для офлайн. Отпиарить это можно так — SPACE Pass предоставляет организатору большее время на формирование лояльных отношений.\n"
   ]
  },
  {
   "cell_type": "markdown",
   "id": "6cc175bb-6ea9-440a-b6f3-b650f32cfb58",
   "metadata": {},
   "source": [
    "[В начало](#stepSTART)"
   ]
  },
  {
   "cell_type": "code",
   "execution_count": null,
   "id": "823fb788-7d11-465d-afe0-b0c49194be45",
   "metadata": {},
   "outputs": [],
   "source": []
  }
 ],
 "metadata": {
  "kernelspec": {
   "display_name": "Python 3 (ipykernel)",
   "language": "python",
   "name": "python3"
  },
  "language_info": {
   "codemirror_mode": {
    "name": "ipython",
    "version": 3
   },
   "file_extension": ".py",
   "mimetype": "text/x-python",
   "name": "python",
   "nbconvert_exporter": "python",
   "pygments_lexer": "ipython3",
   "version": "3.12.7"
  }
 },
 "nbformat": 4,
 "nbformat_minor": 5
}
