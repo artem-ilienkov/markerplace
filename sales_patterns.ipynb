{
 "cells": [
  {
   "cell_type": "markdown",
   "id": "a7d8738f-d5be-479c-b2c5-b363132daccb",
   "metadata": {},
   "source": [
    "<a id=\"stepSTART\"></a>\n",
    "\n",
    "**1. Вопросы исследования**: \n",
    "* Есть ли основания полагать, что покупка пользователя обеспечивается активностями за рамками приложения, и вкладк самого приложения минимален\n",
    "* Определить, сколько времени проходит до первой покупки\n",
    "* Определить, сколько времени проходит до первой покупки тарифа\n",
    "* Определить, какие покупки предшествуют покупке тарифа\n",
    "\n",
    "**2. Ключевые выводы**: \n",
    "\n",
    "2.1 Ключевой фактор первой покупки:\n",
    "\n",
    "Ключевым фактором влияющим на первую покупку является \"активность\" за рамками приложения, ввиду того, что преимущественно проходит ноль дней от регистрации в приложении до первой покупки. \n",
    "\n",
    "2.2 Кол-во дней до первой покупки:\n",
    "\n",
    "2.2.2 Наиболее часто встречающееся значение: 0 дней, медианное — 5-7 дней, в зависимости от статуса пользователя.\n",
    "2.2.3 Наиболее часто встречающееся значение у Гостей  — 2, вероятнее всего связано с тем, что Гость, это будущий Эксперт, и 2 дня занимают процедуры по оформлению статуса.\n",
    "\n",
    "2.3 Кол-во дней до первой покупки тарифа:\n",
    "\n",
    "Следует исходить из того, что преимущественно тариф приобретается сразу после регистрации в приложении, а если исходить из контекста, то его покупка происходит до регистрации в приложении.\n",
    "\n",
    "2.3 Паттерны покупок\n",
    "* Путь Амбассадора и Эксперта похожи, это связано с переходом от Амбассадора к Эксперту.\n",
    "* Амбассадоры и Эксперты – самые предсказуемые: они заходят через свои ключевые тарифы.\n",
    "* Амбассадоры второй покупкой также приобретают тариф, но  здесь уже видно, что дальнейшие покупки связаны с расширением участия в экосистеме.\n",
    "* Эксперты приобретают экспертный тариф и во второй покупке нет оснований говорить о желании расширения участия в экосистеме.\n",
    "* Эксперты редко переходят к Амбассадорам.\n",
    "* Гости — первый выбор хаотичен, но с незначительным отрывом идет выбор \"Эксперт\".\n",
    "* Жители, как правило, остаются на подписке и не имеют интереса к расширению в экосистеме.\n",
    "* Жители – делают ставку на долгосрочные подписки, а не разовые покупки.\n",
    "\n",
    "2.4 \"Апгрейд\" тарифа:\n",
    "* Данные ограничены, но есть основания, что нельзя сказать, о наличии сценария, при котором Гость, Житель, Эксперт переходят в статус Амбассадора. В текущей комбинации бизнес-модели, \"апгрейда\" статуса вероятнее всего нет. Не приходится сейчас рассчитывать на то, что Гость, Житель, Эксперт в дальнейшем перейдут к статусу Амбассадор.\n",
    "\n",
    "2.4 Влияние мероприятия\n",
    "\n",
    "При первом \"приближении\" можно сделать вывод, что мероприятие является сильным стимулирующим фактором к покупке тарифа/\n",
    "\n",
    "**3. Рекомендации**: \n",
    "* Продолжительность коммуникации с целью онбординга пользователя лучше делать максимум 7 дней.\n",
    "* Расширять количество мероприятий и работать над факторами, стимулирующими покупку тарифа на самом мероприятии.\n",
    "* Переработать предложение, которое станет привлекательным для \"апгрейда\" тарифа у Гостей, Жителей и Экспертов — и SPACE Pass может стать \"мостом\" к этому, при \"вознаграждении\" продажи у Амбассадоров.\n",
    "\n",
    "\n",
    "**4. Источник данные**: \n",
    "* Использованы данные по покупкам в системе с октября 2024 по март 2025. Допущение — нет возможности отследить историю изменения статуса.\n",
    "\n",
    "**5. Инструменты**: \n",
    "* В анализе использовал библиотеки Python для проведения исследовательского анализа данных. Кроме того, использовал SQL для получения данных приложения"
   ]
  },
  {
   "cell_type": "code",
   "execution_count": 1097,
   "id": "f16884bd-3623-4093-a850-3ca4e845710b",
   "metadata": {},
   "outputs": [],
   "source": [
    "# Импорт необходимых библиотек и формирование датафрейма для исследования\n",
    "import pandas as pd\n",
    "import mysql.connector\n",
    "import re\n",
    "from sqlalchemy import create_engine\n",
    "\n",
    "# 🔹 Полный путь к файлу (замените на свой)\n",
    "file_path = r\"C:\\Users\\come_on_dude\\come_on_dude\\come_on_dude\\come_on_dude\\come_on_dude.csv\"  \n",
    "\n",
    "# 🔹 Формирование датафрейма\n",
    "ambassadors = pd.read_csv(file_path)"
   ]
  },
  {
   "cell_type": "code",
   "execution_count": 1098,
   "id": "c6da68f1-482b-44ec-9f77-f75be866d29b",
   "metadata": {},
   "outputs": [
    {
     "name": "stdout",
     "output_type": "stream",
     "text": [
      "<class 'pandas.core.frame.DataFrame'>\n",
      "RangeIndex: 5961 entries, 0 to 5960\n",
      "Data columns (total 5 columns):\n",
      " #   Column       Non-Null Count  Dtype \n",
      "---  ------       --------------  ----- \n",
      " 0   name         5960 non-null   object\n",
      " 1   phone        5960 non-null   object\n",
      " 2   tariff       5961 non-null   object\n",
      " 3   sale_status  5961 non-null   object\n",
      " 4   sale_date    5961 non-null   object\n",
      "dtypes: object(5)\n",
      "memory usage: 233.0+ KB\n"
     ]
    }
   ],
   "source": [
    "# Сводная информация по датафрейму\n",
    "ambassadors.info()"
   ]
  },
  {
   "cell_type": "code",
   "execution_count": null,
   "id": "b9f1d8e4-0187-4cfd-bdc6-75e22ad4f382",
   "metadata": {},
   "outputs": [],
   "source": [
    "# Статистика набора данных\n",
    "ambassadors.describe()"
   ]
  },
  {
   "cell_type": "code",
   "execution_count": 1099,
   "id": "123d38c9-d22b-41de-92a9-1182976a02fa",
   "metadata": {},
   "outputs": [
    {
     "data": {
      "text/html": [
       "<div>\n",
       "<style scoped>\n",
       "    .dataframe tbody tr th:only-of-type {\n",
       "        vertical-align: middle;\n",
       "    }\n",
       "\n",
       "    .dataframe tbody tr th {\n",
       "        vertical-align: top;\n",
       "    }\n",
       "\n",
       "    .dataframe thead th {\n",
       "        text-align: right;\n",
       "    }\n",
       "</style>\n",
       "<table border=\"1\" class=\"dataframe\">\n",
       "  <thead>\n",
       "    <tr style=\"text-align: right;\">\n",
       "      <th></th>\n",
       "      <th>name</th>\n",
       "      <th>phone</th>\n",
       "      <th>tariff</th>\n",
       "      <th>sale_status</th>\n",
       "      <th>sale_date</th>\n",
       "    </tr>\n",
       "  </thead>\n",
       "  <tbody>\n",
       "    <tr>\n",
       "      <th>4838</th>\n",
       "      <td>NaN</td>\n",
       "      <td>NaN</td>\n",
       "      <td>Professional - рассрочка</td>\n",
       "      <td>Исполнено</td>\n",
       "      <td>29.10.2024 6:44</td>\n",
       "    </tr>\n",
       "  </tbody>\n",
       "</table>\n",
       "</div>"
      ],
      "text/plain": [
       "     name phone                    tariff sale_status        sale_date\n",
       "4838  NaN   NaN  Professional - рассрочка   Исполнено  29.10.2024 6:44"
      ]
     },
     "execution_count": 1099,
     "metadata": {},
     "output_type": "execute_result"
    }
   ],
   "source": [
    "# Посмотрим нулевые значения в столбцах содержащих их\n",
    "ambassadors[ambassadors.isnull().any(axis=1)]"
   ]
  },
  {
   "cell_type": "code",
   "execution_count": 1100,
   "id": "9adcc35d-809c-4624-9f8b-ab4bf5246473",
   "metadata": {},
   "outputs": [],
   "source": [
    "# Удалим нулевые значения в столбцах содержащих их\n",
    "ambassadors = ambassadors.dropna()"
   ]
  },
  {
   "cell_type": "code",
   "execution_count": 1101,
   "id": "2090d45a-8474-4419-b48e-f84139857046",
   "metadata": {},
   "outputs": [
    {
     "name": "stdout",
     "output_type": "stream",
     "text": [
      "Набор данных содержит 947 одинаковых значения\n"
     ]
    }
   ],
   "source": [
    "# Проверим набор данных на наличие дубликатов\n",
    "duplicates = ambassadors.duplicated()\n",
    "print(f\"Набор данных содержит {duplicates.sum()} одинаковых значения\")"
   ]
  },
  {
   "cell_type": "code",
   "execution_count": 1102,
   "id": "a42c6fd4-07c0-400b-9a05-e15fb2be03e4",
   "metadata": {},
   "outputs": [],
   "source": [
    "# Удалим дублирующиеся строки по определенным столбцам, оставив первую строку\n",
    "ambassadors = ambassadors.sort_values(by=[\"phone\", \"sale_date\"], ascending=[True, False])\n",
    "ambassadors = ambassadors.drop_duplicates(subset=[\"name\",\"phone\", \"tariff\", \"sale_date\"], keep=\"first\")"
   ]
  },
  {
   "cell_type": "code",
   "execution_count": 1103,
   "id": "aec274ba-b29b-47cf-8343-0e9247c89d08",
   "metadata": {},
   "outputs": [],
   "source": [
    "# Уберем тестовые строки\n",
    "ambassadors = ambassadors[~ambassadors[\"name\"].str.contains(r\"Тест|тест|test\", case=False, na=False, regex=True)]"
   ]
  },
  {
   "cell_type": "code",
   "execution_count": 1104,
   "id": "5a10cb4c-a70c-45d2-bd97-c35dca816687",
   "metadata": {},
   "outputs": [],
   "source": [
    "# Уберем пробелы в номере телефона\n",
    "ambassadors['phone'] = ambassadors['phone'].str.replace(\" \", \"\")"
   ]
  },
  {
   "cell_type": "code",
   "execution_count": 1105,
   "id": "495f4b5e-6755-4700-9b92-add7b87a0c3c",
   "metadata": {},
   "outputs": [],
   "source": [
    "# Уберем тестовые строки, определив их по кол-ву символов в номере телефона\n",
    "pattern = r\"^\\d{7,}$\"\n",
    "ambassadors = ambassadors[ambassadors['phone'].apply(lambda x: bool(re.match(pattern, x)))]"
   ]
  },
  {
   "cell_type": "code",
   "execution_count": 1106,
   "id": "899eecd6-6528-476b-9a20-50a7d4767dfc",
   "metadata": {},
   "outputs": [],
   "source": [
    "# Приведем названия тарифов к одному значению\n",
    "replace_values = [\n",
    "    \"Standard - рассрочка\", \"Standard - b2b\", \"Professional - b2b\", \"Professional - рассрочка\",\n",
    "    \"Standard - кредит\", \"Professional - кредит\", \"Professional\", \"Standard\",\n",
    "    \"Standard - иностранный пользователь\", \"Professional - иностранный пользователь\",\n",
    "    \"Амбассадор - иностранный пользователь\"\n",
    "]\n",
    "\n",
    "# Сделаем замену названия тарифов \n",
    "ambassadors.loc[:, \"tariff\"] = ambassadors[\"tariff\"].apply(\n",
    "    lambda x: \"Покупка тарифа Амбассадор\" if x in replace_values else x\n",
    ")"
   ]
  },
  {
   "cell_type": "code",
   "execution_count": 1107,
   "id": "03410b59-2068-41b3-9d6e-e1501a394836",
   "metadata": {},
   "outputs": [],
   "source": [
    "# Сделаем запрос к базе данных приложения, чтобы иметь данные по дате регистрации в приложении\n",
    "engine = create_engine('mysql+mysqlconnector://come_on_dude')\n",
    "\n",
    "query = \"\"\"SELECT phone,\n",
    "                  CASE \n",
    "                      WHEN clubMemberStatus = \"MEMBER\" THEN 'Герой'\n",
    "                      WHEN clubMemberStatus = \"LEAD\" THEN 'Житель'\n",
    "                      WHEN clubMemberStatus IN (\"EXPERT\", \"EXPERT_PRO\") THEN 'Эксперт'\n",
    "                      WHEN clubMemberStatus = \"AMBASSADOR\" THEN 'Амбассадор'\n",
    "                      WHEN clubMemberStatus = \"GUEST\" THEN 'Гость'\n",
    "                      ELSE 'не определено'\n",
    "                  END AS status,\n",
    "                  createdAt AS reg_date\n",
    "            FROM `come_on_dude`.users AS users\n",
    "           WHERE id NOT IN (SELECT id AS authorId\n",
    "                              FROM `come_on_dude`.users\n",
    "                             WHERE (phone IN ('come_on_dude',\n",
    "                                              'come_on_dude',\n",
    "                                              'come_on_dude',\n",
    "                                              'come_on_dude',\n",
    "                                              'come_on_dude',\n",
    "                                              'come_on_dude',\n",
    "                                              'come_on_dude',\n",
    "                                              'come_on_dude',\n",
    "                                              'come_on_dude',\n",
    "                                              'come_on_dude',\n",
    "                                              'come_on_dude')\n",
    "                                    OR externalId = 'come_on_dude')\n",
    "                            )\n",
    "            AND DATE(createdAt) >= \"2024-10-01\" \"\"\"\n",
    "\n",
    "# Сформируем датафрейм\n",
    "users = pd.read_sql(query, engine)"
   ]
  },
  {
   "cell_type": "code",
   "execution_count": 1108,
   "id": "e9964f54-9b66-44da-8f3c-387bc87e118c",
   "metadata": {},
   "outputs": [
    {
     "data": {
      "text/html": [
       "<div>\n",
       "<style scoped>\n",
       "    .dataframe tbody tr th:only-of-type {\n",
       "        vertical-align: middle;\n",
       "    }\n",
       "\n",
       "    .dataframe tbody tr th {\n",
       "        vertical-align: top;\n",
       "    }\n",
       "\n",
       "    .dataframe thead th {\n",
       "        text-align: right;\n",
       "    }\n",
       "</style>\n",
       "<table border=\"1\" class=\"dataframe\">\n",
       "  <thead>\n",
       "    <tr style=\"text-align: right;\">\n",
       "      <th></th>\n",
       "      <th>phone</th>\n",
       "      <th>status</th>\n",
       "      <th>reg_date</th>\n",
       "    </tr>\n",
       "  </thead>\n",
       "  <tbody>\n",
       "  </tbody>\n",
       "</table>\n",
       "</div>"
      ],
      "text/plain": [
       "Empty DataFrame\n",
       "Columns: [phone, status, reg_date]\n",
       "Index: []"
      ]
     },
     "execution_count": 1108,
     "metadata": {},
     "output_type": "execute_result"
    }
   ],
   "source": [
    "# Посмотрим, есть ли в датафрейме users номера с символами и пробелами\n",
    "wrong_phone = users[users[\"phone\"].str.contains(r\"[+ ]\", regex=True)]\n",
    "wrong_phone"
   ]
  },
  {
   "cell_type": "code",
   "execution_count": 1109,
   "id": "c2f7434d-4021-4e79-8b45-c1c48740e261",
   "metadata": {},
   "outputs": [],
   "source": [
    "# Соеденим датафреймы и удалим тех, у кого отсутствует дата регистрации\n",
    "ambassadors = ambassadors.merge(users, on=\"phone\", how=\"left\")\n",
    "ambassadors = ambassadors.dropna(subset=[\"reg_date\"])"
   ]
  },
  {
   "cell_type": "code",
   "execution_count": 1110,
   "id": "61d3455a-9e2c-4947-ae8f-648ad7a8622f",
   "metadata": {},
   "outputs": [],
   "source": [
    "# Преобразуем даты\n",
    "ambassadors[\"reg_date\"] = pd.to_datetime(ambassadors[\"reg_date\"], format=\"%d.%m.%Y %H:%M\", errors=\"coerce\")\n",
    "ambassadors[\"sale_date\"] = pd.to_datetime(ambassadors[\"sale_date\"], format=\"%d.%m.%Y %H:%M\", errors=\"coerce\")\n",
    "ambassadors[\"reg_date\"] = pd.to_datetime(ambassadors[\"reg_date\"], dayfirst=True).dt.floor('s')\n",
    "ambassadors[\"sale_date\"] = pd.to_datetime(ambassadors[\"sale_date\"], dayfirst=True).dt.floor('s')"
   ]
  },
  {
   "cell_type": "code",
   "execution_count": 1111,
   "id": "f6d831fe-34c3-4f05-9397-e25cd0931deb",
   "metadata": {},
   "outputs": [],
   "source": [
    "# Удалим дубликаты по одной сделке, оставив только первый статус\n",
    "ambassadors = ambassadors.sort_values(by=\"sale_status\", ascending=False)\n",
    "ambassadors = ambassadors.drop_duplicates(subset=[\"phone\", \"tariff\", \"sale_date\"], keep=\"first\")"
   ]
  },
  {
   "cell_type": "code",
   "execution_count": 1112,
   "id": "89e7893f-1678-4580-b2d3-954ba78c3929",
   "metadata": {},
   "outputs": [],
   "source": [
    "# Уберем колонку \n",
    "ambassadors = ambassadors.drop(columns=[\"sale_status\"])"
   ]
  },
  {
   "cell_type": "code",
   "execution_count": 1113,
   "id": "d0eef035-5e52-4f33-a063-ffac5191aede",
   "metadata": {},
   "outputs": [],
   "source": [
    "# Уберем пользователей, которые регистрировались ранее, чем есть данные по покупкам\n",
    "\n",
    "# Для каждого пользователя оставим только первую покупку по дате\n",
    "first_purchase = ambassadors.groupby(\"phone\")[\"sale_date\"].min()\n",
    "\n",
    "# Присоединим к датафрейму информацию о первой покупке\n",
    "ambassadors = ambassadors.merge(first_purchase, on=\"phone\", suffixes=(\"\", \"_first_purchase\"))\n",
    "\n",
    "# Оставляем только пользователей, у которых reg_date меньше или равна первой покупке\n",
    "ambassadors = ambassadors[ambassadors[\"reg_date\"] <= ambassadors[\"sale_date_first_purchase\"]]"
   ]
  },
  {
   "cell_type": "code",
   "execution_count": 1114,
   "id": "55696872-8a2d-46fb-9f27-02aa18001646",
   "metadata": {},
   "outputs": [
    {
     "name": "stdout",
     "output_type": "stream",
     "text": [
      "Пользователей совершивших покупку 947\n"
     ]
    }
   ],
   "source": [
    "# Найдем кол-во пользователей совершивших покупку\n",
    "unique_users_count = ambassadors[\"phone\"].nunique()\n",
    "print(f\"Пользователей совершивших покупку {duplicates.sum()}\")"
   ]
  },
  {
   "cell_type": "code",
   "execution_count": 1115,
   "id": "d2a5cc18-984c-46b1-a3a7-55e5e327845d",
   "metadata": {},
   "outputs": [
    {
     "name": "stdout",
     "output_type": "stream",
     "text": [
      "Среднее количество дней: 11.34\n",
      "Медианное количество дней: 5.0\n",
      "Максимальное количество дней: 159\n",
      "Наиболее часто встречающееся значение: 0\n"
     ]
    }
   ],
   "source": [
    "# Найдем кол-во дней до первой покупки\n",
    "ambassadors_first_purchase = ambassadors.copy()\n",
    "ambassadors_first_purchase[\"days_to_first_purchase\"] = \\\n",
    "    (ambassadors_first_purchase[\"sale_date_first_purchase\"] \n",
    "    - ambassadors_first_purchase[\"reg_date\"]).dt.days \n",
    "\n",
    "\n",
    "\n",
    "average_days = ambassadors_first_purchase[\"days_to_first_purchase\"].mean()\n",
    "median_days = ambassadors_first_purchase[\"days_to_first_purchase\"].median()\n",
    "max_days = ambassadors_first_purchase[\"days_to_first_purchase\"].max()\n",
    "mode_days = ambassadors_first_purchase[\"days_to_first_purchase\"].mode()[0] \n",
    "\n",
    "print(f\"Среднее количество дней: {round(average_days, 2)}\")\n",
    "print(f\"Медианное количество дней: {median_days}\")\n",
    "print(f\"Максимальное количество дней: {max_days}\")\n",
    "print(f\"Наиболее часто встречающееся значение: {mode_days}\")"
   ]
  },
  {
   "cell_type": "code",
   "execution_count": 1116,
   "id": "1a0b712a-7350-419b-882c-6c39bb73a5d1",
   "metadata": {},
   "outputs": [
    {
     "name": "stdout",
     "output_type": "stream",
     "text": [
      "Среднее количество дней до первой покупки: Амбассадор\n",
      "Среднее количество дней: 11.98\n",
      "Медианное количество дней: 7.0\n",
      "Максимальное количество дней: 107\n",
      "Наиболее часто встречающееся значение: 0\n",
      "\n",
      "Среднее количество дней до первой покупки: Эксперт\n",
      "Среднее количество дней: 10.94\n",
      "Медианное количество дней: 5.0\n",
      "Максимальное количество дней: 159\n",
      "Наиболее часто встречающееся значение: 0\n",
      "\n",
      "Среднее количество дней до первой покупки: Гость\n",
      "Среднее количество дней: 13.53\n",
      "Медианное количество дней: 6.0\n",
      "Максимальное количество дней: 134\n",
      "Наиболее часто встречающееся значение: 2\n",
      "\n",
      "Среднее количество дней до первой покупки: Житель\n",
      "Среднее количество дней: 16.35\n",
      "Медианное количество дней: 7.0\n",
      "Максимальное количество дней: 73\n",
      "Наиболее часто встречающееся значение: 0\n"
     ]
    }
   ],
   "source": [
    "# Найдем кол-во дней до первой покупки по статусам\n",
    "\n",
    "# Амбассадор\n",
    "ambassadors_first_purchase = ambassadors.copy()\n",
    "ambassadors_first_purchase = ambassadors_first_purchase.query('status == \"Амбассадор\"')\n",
    "ambassadors_first_purchase[\"days_to_first_purchase\"] = \\\n",
    "    (ambassadors_first_purchase[\"sale_date_first_purchase\"] \\\n",
    "    - ambassadors_first_purchase[\"reg_date\"]).dt.days\n",
    "\n",
    "average_days_ambassador = ambassadors_first_purchase[\"days_to_first_purchase\"].mean()\n",
    "median_days_ambassador = ambassadors_first_purchase[\"days_to_first_purchase\"].median()\n",
    "max_days_ambassador = ambassadors_first_purchase[\"days_to_first_purchase\"].max()\n",
    "mode_days_ambassador = ambassadors_first_purchase[\"days_to_first_purchase\"].mode()[0] \n",
    "\n",
    "# Эксперт\n",
    "expert_first_purchase = ambassadors.copy()\n",
    "expert_first_purchase = expert_first_purchase.query('status == \"Эксперт\"')\n",
    "expert_first_purchase[\"days_to_first_purchase\"] = \\\n",
    "    (expert_first_purchase[\"sale_date_first_purchase\"] \\\n",
    "    - expert_first_purchase[\"reg_date\"]).dt.days\n",
    "\n",
    "average_days_expert = expert_first_purchase[\"days_to_first_purchase\"].mean()\n",
    "median_days_expert = expert_first_purchase[\"days_to_first_purchase\"].median()\n",
    "max_days_expert = expert_first_purchase[\"days_to_first_purchase\"].max()\n",
    "mode_days_expert = expert_first_purchase[\"days_to_first_purchase\"].mode()[0]  \n",
    "\n",
    "# Гость\n",
    "quest_first_purchase = ambassadors.copy()\n",
    "quest_first_purchase = quest_first_purchase.query('status == \"Гость\"')\n",
    "quest_first_purchase[\"days_to_first_purchase\"] = \\\n",
    "    (quest_first_purchase[\"sale_date_first_purchase\"] \\\n",
    "    - quest_first_purchase[\"reg_date\"]).dt.days\n",
    "\n",
    "average_days_quest = quest_first_purchase[\"days_to_first_purchase\"].mean()\n",
    "median_days_quest = quest_first_purchase[\"days_to_first_purchase\"].median()\n",
    "max_days_quest = quest_first_purchase[\"days_to_first_purchase\"].max()\n",
    "mode_days_quest = quest_first_purchase[\"days_to_first_purchase\"].mode()[0]  \n",
    "\n",
    "# Житель\n",
    "citizen_first_purchase = ambassadors.copy()\n",
    "citizen_first_purchase = citizen_first_purchase.query('status == \"Житель\"')\n",
    "citizen_first_purchase[\"days_to_first_purchase\"] = \\\n",
    "    (citizen_first_purchase[\"sale_date_first_purchase\"] \\\n",
    "    - citizen_first_purchase[\"reg_date\"]).dt.days \\\n",
    "\n",
    "average_days_citizen = citizen_first_purchase[\"days_to_first_purchase\"].mean()\n",
    "median_days_citizen = citizen_first_purchase[\"days_to_first_purchase\"].median()\n",
    "max_days_citizen = citizen_first_purchase[\"days_to_first_purchase\"].max()\n",
    "mode_days_citizen = citizen_first_purchase[\"days_to_first_purchase\"].mode()[0]  \n",
    "\n",
    "print(f\"Среднее количество дней до первой покупки: Амбассадор\")\n",
    "print(f\"Среднее количество дней: {round(average_days_ambassador, 2)}\")\n",
    "print(f\"Медианное количество дней: {median_days_ambassador}\")\n",
    "print(f\"Максимальное количество дней: {max_days_ambassador}\")\n",
    "print(f\"Наиболее часто встречающееся значение: {mode_days_ambassador}\")\n",
    "print()\n",
    "print(f\"Среднее количество дней до первой покупки: Эксперт\")\n",
    "print(f\"Среднее количество дней: {round(average_days_expert, 2)}\")\n",
    "print(f\"Медианное количество дней: {median_days_expert}\")\n",
    "print(f\"Максимальное количество дней: {max_days_expert}\")\n",
    "print(f\"Наиболее часто встречающееся значение: {mode_days_expert}\")\n",
    "print()\n",
    "print(f\"Среднее количество дней до первой покупки: Гость\")\n",
    "print(f\"Среднее количество дней: {round(average_days_quest, 2)}\")\n",
    "print(f\"Медианное количество дней: {median_days_quest}\")\n",
    "print(f\"Максимальное количество дней: {max_days_quest}\")\n",
    "print(f\"Наиболее часто встречающееся значение: {mode_days_quest}\")\n",
    "print()\n",
    "print(f\"Среднее количество дней до первой покупки: Житель\")\n",
    "print(f\"Среднее количество дней: {round(average_days_citizen, 2)}\")\n",
    "print(f\"Медианное количество дней: {median_days_citizen}\")\n",
    "print(f\"Максимальное количество дней: {max_days_citizen}\")\n",
    "print(f\"Наиболее часто встречающееся значение: {mode_days_citizen}\")\n",
    "\n"
   ]
  },
  {
   "cell_type": "code",
   "execution_count": 1117,
   "id": "9c7bb039-c05d-4a95-8336-2805f7900e0e",
   "metadata": {},
   "outputs": [
    {
     "data": {
      "text/plain": [
       "purchase_number\n",
       "1    2545\n",
       "2     151\n",
       "3      26\n",
       "4       8\n",
       "5       6\n",
       "6       2\n",
       "7       1\n",
       "Name: count, dtype: int64"
      ]
     },
     "execution_count": 1117,
     "metadata": {},
     "output_type": "execute_result"
    }
   ],
   "source": [
    "# Ранижруем и пронумеруем покупки по каждому пользователю\n",
    "ambassadors = ambassadors.sort_values(by=[\"phone\", \"sale_date\"])\n",
    "ambassadors[\"purchase_number\"] = ambassadors.groupby(\"phone\").cumcount() + 1\n",
    "\n",
    "# Посмотрим распределение пользователей по кол-ву покупок\n",
    "user_purchase_counts = ambassadors.groupby(\"phone\")[\"purchase_number\"].max()\n",
    "purchase_сounts = user_purchase_counts.value_counts().sort_index()\n",
    "purchase_сounts"
   ]
  },
  {
   "cell_type": "code",
   "execution_count": 1118,
   "id": "ae4e37ba-ece6-41f1-b497-962bdf6914a4",
   "metadata": {},
   "outputs": [
    {
     "name": "stdout",
     "output_type": "stream",
     "text": [
      "Пользователей купивших тариф: 254\n"
     ]
    }
   ],
   "source": [
    "# Найдем кол-во пользователей, которые купили тариф\n",
    "users_buy_tariff = ambassadors.copy()\n",
    "users_buy_tariff = users_buy_tariff.query('tariff == \"Покупка тарифа Амбассадор\"')\n",
    "users_buy_tariff = users_buy_tariff[\"phone\"].nunique()\n",
    "print(f\"Пользователей купивших тариф: {users_buy_tariff}\")"
   ]
  },
  {
   "cell_type": "code",
   "execution_count": 1119,
   "id": "468e9834-5ae4-4a50-9e9b-71452952ce36",
   "metadata": {},
   "outputs": [
    {
     "name": "stdout",
     "output_type": "stream",
     "text": [
      "Пользователей купивших и тариф и билет: 42\n"
     ]
    }
   ],
   "source": [
    "# Найдем кол-во пользователей, которые купили и тариф и купили билет на мероприятие\n",
    "# Отфильтруем пользователей, которые сделали покупку \"Покупка тарифа Амбассадор\"\n",
    "ambassadors_tarif = ambassadors[ambassadors[\"tariff\"] == \"Покупка тарифа Амбассадор\"]\n",
    "ambassadors_tarif = ambassadors_tarif.query('sale_date <= \"2025-03-04 15:08:00\"')\n",
    "\n",
    "# Отфильтруем пользователей, которые сделали покупку \"Билет на Федеральное мероприятие для входа Professional\"\n",
    "ticket_tariffs = [\n",
    "    \"Билет на Федеральное мероприятие для входа Professional\",\n",
    "    \"Билет STANDARD - Space Business Action 2025 С 20 февраля\",\n",
    "    \"Билет STANDARD - Space Business Action 2025 С 20 января\",\n",
    "    \"Билет VIP - Space Business Action 2025 С 20 февраля\",\n",
    "    \"Билет STANDARD - Space Business Action 2025\",\n",
    "    \"Билет VIP - Space Business Action 2025 С 20 января\"\n",
    "]\n",
    "ambassadors_ticket = ambassadors[ambassadors[\"tariff\"].isin(ticket_tariffs)]\n",
    "\n",
    "# Объединяем оба датафрейма по phone, чтобы оставить только тех пользователей, которые есть в обоих\n",
    "users_with_both = pd.merge(ambassadors_tarif, ambassadors_ticket, on=\"phone\", how=\"inner\", suffixes=(\"_ambassador\", \"_ticket\"))\n",
    "\n",
    "users_with_both = users_with_both[\"phone\"].nunique()\n",
    "print(f\"Пользователей купивших и тариф и билет: {users_with_both}\")"
   ]
  },
  {
   "cell_type": "code",
   "execution_count": 1120,
   "id": "2127dcf5-0d33-4ada-9fdf-be0bf0712139",
   "metadata": {},
   "outputs": [
    {
     "name": "stdout",
     "output_type": "stream",
     "text": [
      "Процент пользователей купивших и тариф и билет: 16.54\n"
     ]
    }
   ],
   "source": [
    "# Рассчитаем процент пользователей, купивших билет и купивших тариф\n",
    "print(f\"Процент пользователей купивших и тариф и билет: {round((users_with_both * 100) / users_buy_tariff, 2)}\")"
   ]
  },
  {
   "cell_type": "code",
   "execution_count": 1121,
   "id": "e9ad34f8-d5ae-4e9a-be1f-1b9ee8f9241d",
   "metadata": {},
   "outputs": [
    {
     "name": "stdout",
     "output_type": "stream",
     "text": [
      "Распределение по первой покупке: Амбассадор\n",
      "tariff\n",
      "Покупка тарифа Амбассадор                                  138\n",
      "ЭКСПЕРТ LIGHT - b2pay - 1 год                               88\n",
      "Space pass (БВ для партнера)                                18\n",
      "Билет на Федеральное мероприятие для входа Professional      5\n",
      "Подписка Житель - 1 месяц                                    3\n",
      "Name: count, dtype: int64\n",
      "\n",
      "Распределение по первой покупке: Эксперт\n",
      "tariff\n",
      "ЭКСПЕРТ LIGHT - b2pay - 1 год               2368\n",
      "Покупка тарифа Амбассадор                      1\n",
      "Подписка Житель - 1 месяц (без списания)       1\n",
      "Подписка Житель - 1 месяц                      1\n",
      "Name: count, dtype: int64\n",
      "\n",
      "Распределение по первой покупке: Гость\n",
      "tariff\n",
      "ЭКСПЕРТ LIGHT - b2pay - 1 год                              19\n",
      "Подписка Житель - 1 месяц (без списания)                    5\n",
      "Подписка Житель - 1 месяц                                   3\n",
      "Покупка тарифа Амбассадор                                   3\n",
      "Space pass (Доп заказ)                                      2\n",
      "Доплата                                                     1\n",
      "Билет на Федеральное мероприятие для входа Professional     1\n",
      "Скидка на заказ                                             1\n",
      "Name: count, dtype: int64\n",
      "\n",
      "Распределение по первой покупке: Житель\n",
      "tariff\n",
      "Житель - 1 год                              36\n",
      "Space pass (БВ для партнера)                24\n",
      "Подписка Житель - год                        8\n",
      "Подписка Житель - 1 месяц                    5\n",
      "Space pass b2b                               4\n",
      "Space pass (Доп заказ)                       2\n",
      "Подписка Житель - 1 месяц (без списания)     1\n",
      "Name: count, dtype: int64\n"
     ]
    }
   ],
   "source": [
    "# Найдем распределение покупок в зависимости от статуса пользователя\n",
    "# Амбассадор\n",
    "# Отбираем только первую покупку\n",
    "first_purchases_ambassador = ambassadors.copy()\n",
    "first_purchases_ambassador = first_purchases_ambassador.query('status == \"Амбассадор\"')\n",
    "first_purchases_ambassador = first_purchases_ambassador[first_purchases_ambassador[\"purchase_number\"] == 1]\n",
    "# Считаем, сколько раз встречается каждый тариф\n",
    "first_distribution_ambassador = first_purchases[\"tariff\"].value_counts()\n",
    "\n",
    "# Эксперт\n",
    "# Отбираем только первую покупку\n",
    "first_purchases_expert = ambassadors.copy()\n",
    "first_purchases_expert = first_purchases_expert.query('status == \"Эксперт\"')\n",
    "first_purchases_expert = first_purchases_expert[first_purchases_expert[\"purchase_number\"] == 1]\n",
    "# Считаем, сколько раз встречается каждый тариф\n",
    "first_distribution_expert = first_purchases_expert[\"tariff\"].value_counts()\n",
    "\n",
    "# Гость\n",
    "# Отбираем только первую покупку\n",
    "first_purchases_quest = ambassadors.copy()\n",
    "first_purchases_quest = first_purchases_quest.query('status == \"Гость\"')\n",
    "first_purchases_quest = first_purchases_quest[first_purchases_quest[\"purchase_number\"] == 1]\n",
    "# Считаем, сколько раз встречается каждый тариф\n",
    "first_distribution_quest = first_purchases_quest[\"tariff\"].value_counts()\n",
    "\n",
    "# Житель\n",
    "# Отбираем только первую покупку\n",
    "first_purchases_citizen = ambassadors.copy()\n",
    "first_purchases_citizen = first_purchases_citizen.query('status == \"Житель\"')\n",
    "first_purchases_citizen = first_purchases_citizen[first_purchases_citizen[\"purchase_number\"] == 1]\n",
    "# Считаем, сколько раз встречается каждый тариф\n",
    "first_distribution_citizen = first_purchases_citizen[\"tariff\"].value_counts()\n",
    "\n",
    "print(f\"Распределение по первой покупке: Амбассадор\")\n",
    "print(first_distribution_ambassador)\n",
    "print()\n",
    "print(f\"Распределение по первой покупке: Эксперт\")\n",
    "print(first_distribution_expert)\n",
    "print()\n",
    "print(f\"Распределение по первой покупке: Гость\")\n",
    "print(first_distribution_quest)\n",
    "print()\n",
    "print(f\"Распределение по первой покупке: Житель\")\n",
    "print(first_distribution_citizen)"
   ]
  },
  {
   "cell_type": "code",
   "execution_count": 1122,
   "id": "0bfd066c-8944-4b78-9202-ceb90b9e4505",
   "metadata": {},
   "outputs": [
    {
     "name": "stdout",
     "output_type": "stream",
     "text": [
      "Распределение по второй покупке: Амбассадор\n",
      "tariff\n",
      "Покупка тарифа Амбассадор                                   99\n",
      "Space pass (БВ для партнера)                                14\n",
      "ЭКСПЕРТ LIGHT - b2pay - 1 год                                8\n",
      "Билет на Федеральное мероприятие для входа Professional      6\n",
      "Билет STANDARD - Space Business Action 2025 С 20 февраля     5\n",
      "Билет STANDARD - Space Business Action 2025 С 20 января      4\n",
      "Скидка на заказ                                              4\n",
      "Пролонгация Health 2.0                                       1\n",
      "Билет VIP - Space Business Action 2025 С 20 февраля          1\n",
      "Билет STANDARD - Space Business Action 2025                  1\n",
      "Билет VIP - Space Business Action 2025 С 20 января           1\n",
      "Житель - 1 год                                               1\n",
      "Name: count, dtype: int64\n",
      "\n",
      "Распределение по второй покупке: Эксперт\n",
      "tariff\n",
      "Space pass (БВ для партнера)     6\n",
      "ЭКСПЕРТ LIGHT - b2pay - 1 год    4\n",
      "ЭКСПЕРТ LIGHT - 30 дней          1\n",
      "Name: count, dtype: int64\n",
      "\n",
      "Распределение по второй покупке: Гость\n",
      "tariff\n",
      "ЭКСПЕРТ LIGHT - b2pay - 1 год                              2\n",
      "Space pass (БВ для партнера)                               1\n",
      "Покупка тарифа Амбассадор                                  1\n",
      "Билет STANDARD - Space Business Action 2025 С 20 января    1\n",
      "Name: count, dtype: int64\n",
      "\n",
      "Распределение по второй покупке: Житель\n",
      "tariff\n",
      "Житель - 1 год                  24\n",
      "Space pass (БВ для партнера)     7\n",
      "Space pass (Доп заказ)           2\n",
      "Name: count, dtype: int64\n"
     ]
    }
   ],
   "source": [
    "# Найдем распределение покупок в зависимости от статуса пользователя\n",
    "# Амбассадор\n",
    "# Отбираем только вторую покупку\n",
    "second_purchases_ambassador = ambassadors.copy()\n",
    "second_purchases_ambassador = second_purchases_ambassador.query('status == \"Амбассадор\"')\n",
    "second_purchases_ambassador = second_purchases_ambassador[second_purchases_ambassador[\"purchase_number\"] == 2]\n",
    "# Считаем, сколько раз встречается каждый тариф\n",
    "second_distribution_ambassador = second_purchases_ambassador[\"tariff\"].value_counts()\n",
    "\n",
    "# Эксперт\n",
    "# Отбираем только вторую покупку\n",
    "second_purchases_expert = ambassadors.copy()\n",
    "second_purchases_expert = second_purchases_expert.query('status == \"Эксперт\"')\n",
    "second_purchases_expert = second_purchases_expert[second_purchases_expert[\"purchase_number\"] == 2]\n",
    "# Считаем, сколько раз встречается каждый тариф\n",
    "second_distribution_expert = second_purchases_expert[\"tariff\"].value_counts()\n",
    "\n",
    "# Гость\n",
    "# Отбираем только вторую покупку\n",
    "second_purchases_quest = ambassadors.copy()\n",
    "second_purchases_quest = second_purchases_quest.query('status == \"Гость\"')\n",
    "second_purchases_quest = second_purchases_quest[second_purchases_quest[\"purchase_number\"] == 2]\n",
    "# Считаем, сколько раз встречается каждый тариф\n",
    "second_distribution_quest = second_purchases_quest[\"tariff\"].value_counts()\n",
    "\n",
    "# Житель\n",
    "# Отбираем только вторую покупку\n",
    "second_purchases_citizen = ambassadors.copy()\n",
    "second_purchases_citizen = second_purchases_citizen.query('status == \"Житель\"')\n",
    "second_purchases_citizen = second_purchases_citizen[second_purchases_citizen[\"purchase_number\"] == 2]\n",
    "# Считаем, сколько раз встречается каждый тариф\n",
    "second_distribution_citizen = second_purchases_citizen[\"tariff\"].value_counts()\n",
    "\n",
    "print(f\"Распределение по второй покупке: Амбассадор\")\n",
    "print(second_distribution_ambassador)\n",
    "print()\n",
    "print(f\"Распределение по второй покупке: Эксперт\")\n",
    "print(second_distribution_expert)\n",
    "print()\n",
    "print(f\"Распределение по второй покупке: Гость\")\n",
    "print(second_distribution_quest)\n",
    "print()\n",
    "print(f\"Распределение по второй покупке: Житель\")\n",
    "print(second_distribution_citizen)"
   ]
  },
  {
   "cell_type": "code",
   "execution_count": 1123,
   "id": "0a138977-50e4-48ad-8566-2931b4af8129",
   "metadata": {},
   "outputs": [
    {
     "name": "stdout",
     "output_type": "stream",
     "text": [
      "Дней до первой покупки тарифа\n",
      "Среднее количество дней: 24.07\n",
      "Медианное количество дней: 12.0\n",
      "Максимальное количество дней: 144\n",
      "Модальное количество дней: 0\n"
     ]
    }
   ],
   "source": [
    "# Найдем кол-во дней до первой покупки Тарифа Амбассадор\n",
    "\n",
    "# Для каждого пользователя оставляем только первую покупку (по tariff = 'Покупка тарифа Амбассадор')\n",
    "first_ambassador_purchase = ambassadors[ambassadors[\"tariff\"] == \n",
    "                                        \"Покупка тарифа Амбассадор\"].groupby(\"phone\")[\"sale_date\"].min()\n",
    "\n",
    "# Присоединим к датафрейму информацию о первой покупке тарифа Амбассадор\n",
    "ambassadors_first_ambassador_purchase = ambassadors.merge(first_ambassador_purchase, on=\"phone\", \n",
    "                                                          suffixes=(\"\", \"_first_ambassador_purchase\"))\n",
    "\n",
    "# Рассчитываем разницу в днях между датой регистрации и первой покупкой тарифа Амбассадор\n",
    "ambassadors_first_ambassador_purchase[\"days_to_first_ambassador_purchase\"] = \\\n",
    "    (ambassadors_first_ambassador_purchase[\"sale_date_first_ambassador_purchase\"] \\\n",
    "    - ambassadors_first_ambassador_purchase[\"reg_date\"]).dt.days\n",
    "\n",
    "# Рассчитаем среднее, медианное, максимальное и моду\n",
    "average_days = ambassadors_first_ambassador_purchase[\"days_to_first_ambassador_purchase\"].mean()\n",
    "median_days = ambassadors_first_ambassador_purchase[\"days_to_first_ambassador_purchase\"].median()\n",
    "max_days = ambassadors_first_ambassador_purchase[\"days_to_first_ambassador_purchase\"].max()\n",
    "mode_days = ambassadors_first_ambassador_purchase[\"days_to_first_ambassador_purchase\"].mode()[0]\n",
    "\n",
    "print(f\"Дней до первой покупки тарифа\")\n",
    "print(f\"Среднее количество дней: {round(average_days, 2)}\")\n",
    "print(f\"Медианное количество дней: {median_days}\")\n",
    "print(f\"Максимальное количество дней: {max_days}\")\n",
    "print(f\"Модальное количество дней: {mode_days}\")"
   ]
  },
  {
   "cell_type": "code",
   "execution_count": null,
   "id": "77c48602-af01-4cf8-b08c-75002dee4487",
   "metadata": {},
   "outputs": [],
   "source": []
  }
 ],
 "metadata": {
  "kernelspec": {
   "display_name": "Python 3 (ipykernel)",
   "language": "python",
   "name": "python3"
  },
  "language_info": {
   "codemirror_mode": {
    "name": "ipython",
    "version": 3
   },
   "file_extension": ".py",
   "mimetype": "text/x-python",
   "name": "python",
   "nbconvert_exporter": "python",
   "pygments_lexer": "ipython3",
   "version": "3.12.7"
  }
 },
 "nbformat": 4,
 "nbformat_minor": 5
}
